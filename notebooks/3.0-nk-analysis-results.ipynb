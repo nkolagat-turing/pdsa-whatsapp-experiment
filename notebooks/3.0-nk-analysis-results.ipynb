{
 "cells": [
  {
   "cell_type": "markdown",
   "metadata": {},
   "source": [
    "# Analysis Results "
   ]
  },
  {
   "cell_type": "markdown",
   "metadata": {},
   "source": [
    "## Purpose\n",
    "- Understand how WhatsApp availability test will affect the developer quality metric for Available Vetted Developers.\n",
    "- If launched, what are the expected Available Vetted Devs? and expected Quality Available Vetted Devs?\n",
    "- Alternative scenarios for the launch"
   ]
  },
  {
   "cell_type": "markdown",
   "metadata": {},
   "source": [
    "## Key Take Away\n",
    "- Out of all the Developers exposed to What's app availability update, \"Low quality\" and \"Low Experience\" developers have higher conversion rate (~24% for both) compared to \"Elite\" and \"High Quality\" developers (14% and 21% respectively)\n",
    "<div style=\"text-align: center\"><img src=\"../reports/figures/whatsapp_conv_segments.png\" width=\"550\" /></div>\n",
    "\n",
    "- Developers who have received AMP+regular notification for availability update have conversion rate flat between all the segments (8%-11%)\n",
    "<div style=\"text-align: center\"><img src=\"../reports/figures/amp_conv_segments.png\" width=\"550\" /></div>\n",
    "\n",
    "- If we were to launch \"What's app availability update\" to all valid vetted developers we can expect to add 8,221 additional AVS but the quality of the developers will be reduced to 29% high quality developers\n"
   ]
  },
  {
   "cell_type": "markdown",
   "metadata": {},
   "source": [
    "## Alternative Launch Scenario\n",
    "- Exclude the launch for \"Low Experiance\" developers will result in adding 6,133 AVS and improve high quality developers to 32%\n",
    "- Exclude the launch for \"Low Experiance\" and \"Low Quality\" developers will result in adding 4,002 AVS and improve high quality developers to 35%, this is close to our Q3 goal."
   ]
  },
  {
   "cell_type": "markdown",
   "metadata": {},
   "source": [
    "## Other considerations\n",
    "### Assumptions\n",
    "- Exposing valid p2 developers to what's app availabiilty update will result in additional AVS. Does not take into consideration of developers who have already are in available status.\n",
    "### Data Discrepancy\n",
    "- Developer Quality Segmentation supply is 46,761 but actual P2 pool is 48,855. PDSA team to validate.\n",
    "- Convertion rate in growth dashboard does not align with the query when run in big query. Big query run conversion rate is higher.\n",
    "\n",
    " "
   ]
  }
 ],
 "metadata": {
  "kernelspec": {
   "display_name": "Python 3.10.5 64-bit",
   "language": "python",
   "name": "python3"
  },
  "language_info": {
   "codemirror_mode": {
    "name": "ipython",
    "version": 3
   },
   "file_extension": ".py",
   "mimetype": "text/x-python",
   "name": "python",
   "nbconvert_exporter": "python",
   "pygments_lexer": "ipython3",
   "version": "3.10.5"
  },
  "orig_nbformat": 4,
  "vscode": {
   "interpreter": {
    "hash": "aee8b7b246df8f9039afb4144a1f6fd8d2ca17a180786b69acc140d282b71a49"
   }
  }
 },
 "nbformat": 4,
 "nbformat_minor": 2
}
